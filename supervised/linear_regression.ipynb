{
 "cells": [
  {
   "cell_type": "code",
   "execution_count": 1,
   "metadata": {
    "collapsed": false
   },
   "outputs": [
    {
     "data": {
      "text/plain": [
       "dict_keys(['DESCR', 'target', 'feature_names', 'data', 'target_names'])"
      ]
     },
     "execution_count": 1,
     "metadata": {},
     "output_type": "execute_result"
    }
   ],
   "source": [
    "from sklearn.datasets import load_breast_cancer\n",
    "from sklearn.model_selection import train_test_split\n",
    "from sklearn.linear_model import LinearRegression\n",
    "\n",
    "cancer = load_breast_cancer()\n",
    "\n",
    "cancer.keys()"
   ]
  },
  {
   "cell_type": "code",
   "execution_count": 3,
   "metadata": {
    "collapsed": false
   },
   "outputs": [
    {
     "data": {
      "text/plain": [
       "array([  1.34032004e-01,   3.41008642e-03,  -1.04887074e-02,\n",
       "        -3.01272168e-04,  -8.04738008e-01,   4.40102848e+00,\n",
       "        -1.67985830e+00,  -2.60249496e+00,  -1.93864035e-01,\n",
       "         6.41401665e-01,  -1.93144701e-01,   4.33080016e-02,\n",
       "         6.39037188e-03,   2.05359431e-04,  -2.00086398e+01,\n",
       "        -3.00145092e+00,   3.18245126e+00,  -5.23084554e+00,\n",
       "        -2.17106802e+00,   8.92042052e+00,  -2.05678443e-01,\n",
       "        -1.44580267e-02,   9.61196430e-04,   1.16778707e-03,\n",
       "         5.99375614e-02,   3.63360343e-02,  -2.03737989e-01,\n",
       "        -9.34158716e-01,  -3.66456695e-01,  -4.67363304e+00])"
      ]
     },
     "execution_count": 3,
     "metadata": {},
     "output_type": "execute_result"
    }
   ],
   "source": [
    "X_train, X_test, y_train, y_test = train_test_split(\n",
    "cancer.data, cancer.target, stratify=cancer.target, random_state=0)\n",
    "\n",
    "lr = LinearRegression().fit(X_train, y_train)\n",
    "lr.coef_"
   ]
  },
  {
   "cell_type": "code",
   "execution_count": null,
   "metadata": {
    "collapsed": true
   },
   "outputs": [],
   "source": []
  }
 ],
 "metadata": {
  "kernelspec": {
   "display_name": "Python 3",
   "language": "python",
   "name": "python3"
  },
  "language_info": {
   "codemirror_mode": {
    "name": "ipython",
    "version": 3
   },
   "file_extension": ".py",
   "mimetype": "text/x-python",
   "name": "python",
   "nbconvert_exporter": "python",
   "pygments_lexer": "ipython3",
   "version": "3.5.4"
  }
 },
 "nbformat": 4,
 "nbformat_minor": 0
}
